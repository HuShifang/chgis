{
 "cells": [
  {
   "cell_type": "code",
   "execution_count": null,
   "metadata": {
    "collapsed": true
   },
   "outputs": [],
   "source": [
    "#! /usr/bin/python3\n",
    "# Cross-checking MainTable, GISInfoTable from v6 .mdb for internal consistency\n",
    "# ..checking to see if for each row in MainTable, the unique PT_ID or BOU_ID exists as SYS_ID in GISINfoTable\n",
    "\n",
    "# NOTE that this was a quick-and-dirty script -- it has NOT been refactored, and was not written with elegance or efficiency in mind.\n",
    "# It is preserved here merely for record-keeping purposes.  It does NOT need to be re-run as part of a workflow.\n",
    "\n",
    "from pandas import Series, DataFrame, ExcelWriter\n",
    "import pandas as pd\n"
   ]
  },
  {
   "cell_type": "code",
   "execution_count": null,
   "metadata": {
    "collapsed": true
   },
   "outputs": [],
   "source": [
    "def write_to_excel(df, filename):\n",
    "    '''function for creating Excel .xlsx files'''\n",
    "    writer = ExcelWriter(filename, engine='xlsxwriter')\n",
    "    df.to_excel(writer)\n",
    "    writer.save()"
   ]
  },
  {
   "cell_type": "code",
   "execution_count": null,
   "metadata": {
    "collapsed": true
   },
   "outputs": [],
   "source": [
    "# import constituent sheets from Excel spreadsheet as DataFrames, and then concatenate them together (Excel sheets are size-limited to ~64k entries)\n",
    "GISInfo_one = pd.read_excel('/home/sf/Dropbox/1608_CHGIS/GISInfoTable.xls', sheetname='GISInfoTable')\n",
    "GISInfo_two = pd.read_excel('/home/sf/Dropbox/1608_CHGIS/GISInfoTable.xls', sheetname='part2')\n",
    "GISInfo = pd.concat([GISInfo_one, GISInfo_two], axis=0)\n",
    "Main_one = pd.read_excel('/home/sf/Dropbox/1608_CHGIS/MainTable.xls', sheetname='MainTable')\n",
    "Main_two = pd.read_excel('/home/sf/Dropbox/1608_CHGIS/MainTable.xls', sheetname='part2')\n",
    "Main_three = pd.read_excel('/home/sf/Dropbox/1608_CHGIS/MainTable.xls', sheetname='part3')\n",
    "Main = pd.concat([Main_one, Main_two, Main_three], axis=0)"
   ]
  },
  {
   "cell_type": "code",
   "execution_count": null,
   "metadata": {
    "collapsed": true
   },
   "outputs": [],
   "source": [
    "# add cols to MainTable, indicating which rows have BOU_ID or PT_ID that match a GISInfoTable row's SYS_ID\n",
    "Main['BOU_ID_IN_GISINFO_SYS_ID'] = Main['BOU_ID'].isin(GISInfo['SYS_ID'])\n",
    "Main['PT_ID_IN_GISINFO_SYS_ID'] = Main['PT_ID'].isin(GISInfo['SYS_ID'])\n",
    "\n",
    "# add flags to MainTable, for 1) rows that match nothing in GISInfo, 2) rows that match something in GISInfo twice\n",
    "Main['ISSUE?'] = (Main['BOU_ID_IN_GISINFO_SYS_ID'] == Main['PT_ID_IN_GISINFO_SYS_ID'])\n",
    "Main['BOU_ID_EQUALS_PT_ID'] = (Main['BOU_ID'] == Main['PT_ID'])"
   ]
  },
  {
   "cell_type": "code",
   "execution_count": null,
   "metadata": {
    "collapsed": true
   },
   "outputs": [],
   "source": [
    "# output MainTable to new .xlsx file\n",
    "write_to_excel(Main, 'MainTable_mod.xlsx')"
   ]
  },
  {
   "cell_type": "code",
   "execution_count": null,
   "metadata": {
    "collapsed": true
   },
   "outputs": [],
   "source": [
    "# cols to GISInfoTable, indicating which rows have SYS_ID that match a MainTable row's BOU_ID or PT_ID\n",
    "GISInfo['SYS_ID_IN_MAIN_BOU_ID'] = GISInfo['SYS_ID'].isin(Main['BOU_ID']) \n",
    "GISInfo['SYS_ID_IN_MAIN_PT_ID'] = GISInfo['SYS_ID'].isin(Main['PT_ID'])"
   ]
  },
  {
   "cell_type": "code",
   "execution_count": null,
   "metadata": {
    "collapsed": true
   },
   "outputs": [],
   "source": [
    "# output GISInfoTable to new .xlsx file\n",
    "write_to_excel(GISInfo, 'GISInfoTable_mod.xlsx')"
   ]
  },
  {
   "cell_type": "code",
   "execution_count": null,
   "metadata": {
    "collapsed": true
   },
   "outputs": [],
   "source": [
    "# check for duplicates within GISInfoTable; duplicates already accounted for in MainTable_mod.xlsx\n",
    "# GISInfo_test = GISInfo.duplicated(subset=['SYS_ID'], keep=False)    \n",
    "# print(GISInfo_test.sort_values(ascending=False))"
   ]
  }
 ],
 "metadata": {
  "kernelspec": {
   "display_name": "Python [Root]",
   "language": "python",
   "name": "Python [Root]"
  },
  "language_info": {
   "codemirror_mode": {
    "name": "ipython",
    "version": 3
   },
   "file_extension": ".py",
   "mimetype": "text/x-python",
   "name": "python",
   "nbconvert_exporter": "python",
   "pygments_lexer": "ipython3",
   "version": "3.5.2"
  }
 },
 "nbformat": 4,
 "nbformat_minor": 0
}
