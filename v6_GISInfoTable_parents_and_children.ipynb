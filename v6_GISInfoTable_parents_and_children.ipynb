{
 "cells": [
  {
   "cell_type": "code",
   "execution_count": 2,
   "metadata": {
    "collapsed": true
   },
   "outputs": [],
   "source": [
    "import pandas as pd\n",
    "from pandas import Series, DataFrame\n",
    "import numpy as np"
   ]
  },
  {
   "cell_type": "code",
   "execution_count": 3,
   "metadata": {
    "collapsed": false
   },
   "outputs": [
    {
     "name": "stderr",
     "output_type": "stream",
     "text": [
      "/home/sf/anaconda3/lib/python3.5/site-packages/IPython/core/interactiveshell.py:2723: DtypeWarning: Columns (22) have mixed types. Specify dtype option on import or set low_memory=False.\n",
      "  interactivity=interactivity, compiler=compiler, result=result)\n"
     ]
    }
   ],
   "source": [
    "# import tables as DataFrames\n",
    "GISInfo = pd.read_csv('input/v6_GISInfoTable_2016-08-09.csv')\n",
    "PartOf = pd.read_csv('input/PartOf.csv')"
   ]
  },
  {
   "cell_type": "code",
   "execution_count": 19,
   "metadata": {
    "collapsed": false,
    "scrolled": false
   },
   "outputs": [
    {
     "name": "stderr",
     "output_type": "stream",
     "text": [
      "/home/sf/anaconda3/lib/python3.5/site-packages/ipykernel/__main__.py:11: SettingWithCopyWarning: \n",
      "A value is trying to be set on a copy of a slice from a DataFrame\n",
      "\n",
      "See the caveats in the documentation: http://pandas.pydata.org/pandas-docs/stable/indexing.html#indexing-view-versus-copy\n"
     ]
    }
   ],
   "source": [
    "# count the number of parent rows in PartOf table that each row in GISInfo table has\n",
    "# i.e., count how many different 'PRT_ID' there are for a particular 'CHILD_ID' == 'mdb_id', and append it to the GISInfoTable\n",
    "\n",
    "# generating column that gives total count of # of parents for each row based on 'CHILD_ID'\n",
    "PartOf['parent_counts'] = PartOf.groupby(['CHILD_ID'])['PRT_ID'].transform('count')\n",
    "\n",
    "# drop duplicates in preparation for merge\n",
    "PartOf_no_duplicates = PartOf.drop_duplicates(['CHILD_ID'])\n",
    "\n",
    "# cut unneeded cols and rename for merge\n",
    "PartOf_no_duplicates.drop(['CHILD_NMPY','CHILD_NMCH','CHILD_NMFT','BEG_YR','END_YR','PRT_NMPY','PRT_NMCH','PRT_ID'], axis=1, inplace=True)\n",
    "PartOf_no_duplicates = PartOf_no_duplicates.rename(columns={'CHILD_ID':'mdb_id'})\n",
    "\n",
    "# PartOf_no_duplicates\n",
    "\n",
    "# combine \n",
    "final = pd.merge(GISInfo, PartOf_no_duplicates, on='mdb_id')\n",
    "\n",
    "# write result\n",
    "final.to_csv('output/v6_GISInfoTable_with_parents_2016-08-14.csv')"
   ]
  }
 ],
 "metadata": {
  "anaconda-cloud": {},
  "kernelspec": {
   "display_name": "Python [Root]",
   "language": "python",
   "name": "Python [Root]"
  },
  "language_info": {
   "codemirror_mode": {
    "name": "ipython",
    "version": 3
   },
   "file_extension": ".py",
   "mimetype": "text/x-python",
   "name": "python",
   "nbconvert_exporter": "python",
   "pygments_lexer": "ipython3",
   "version": "3.5.2"
  }
 },
 "nbformat": 4,
 "nbformat_minor": 0
}
