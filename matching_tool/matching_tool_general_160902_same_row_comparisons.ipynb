{
 "cells": [
  {
   "cell_type": "code",
   "execution_count": 1,
   "metadata": {
    "collapsed": true
   },
   "outputs": [],
   "source": [
    "#! /usr/bin/python3\n",
    "\n",
    "# Script for comparing an input .csv file with an existing .csv file (e.g. the current CHGIS).\n",
    "# Indicates 1) matches on name and 2) strength of match on content\n",
    "# Requires the library 'pandas' to be installed, which is included in Anaconda's free Python distribution\n",
    "\n",
    "# by Stephen Ford (stephen.p.ford@gmail.com) on 2016-09-01\n",
    "\n",
    "import pandas as pd\n",
    "import os.path"
   ]
  },
  {
   "cell_type": "code",
   "execution_count": 2,
   "metadata": {
    "collapsed": false
   },
   "outputs": [],
   "source": [
    "# function for selecting .csv files for manipulation\n",
    "\n",
    "def csv_picker():\n",
    "    ''' Function for checking whether user input path 1) is that of a valid file, and 2) is of a file ending with '.csv'\n",
    "        Prompts for re-entry if entry is invalid.\n",
    "        Returns a pandas DataFrame constructed from the valid .csv file\n",
    "    '''\n",
    "    name = input()\n",
    "\n",
    "    # checking that the path is a valid filename, and prompting for re-entry if not\n",
    "    while not (os.path.isfile(name)):\n",
    "        print(\"Not a valid filename.  Please try again, or use Ctrl-C to exit:\")\n",
    "        name = input()\n",
    "        \n",
    "    # checking that the valid filename ends in .csv, prompting for re-entry if not\n",
    "    while not name.endswith('.csv'):\n",
    "        print(\"Filename does not end in .csv -- please try again or use Ctrl-C to exit:\")\n",
    "        name = input()\n",
    "\n",
    "    print(\"\\nThank you -- filename %s is valid.\\n\" % name)       \n",
    "    return pd.read_csv(name, low_memory=False)"
   ]
  },
  {
   "cell_type": "code",
   "execution_count": 3,
   "metadata": {
    "collapsed": false,
    "scrolled": true
   },
   "outputs": [
    {
     "name": "stdout",
     "output_type": "stream",
     "text": [
      "Please input the path of the .csv file (with extension) you wish to compare with the CHGIS:\n",
      "/home/sf/chgis/input/sample_data/Donghan_2014-10-02_copy.csv\n",
      "\n",
      "Thank you -- filename /home/sf/chgis/input/sample_data/Donghan_2014-10-02_copy.csv is valid.\n",
      "\n",
      "Please input the path of the .csv file (with extension) containing CHGIS data (script expects v5, or at least its column names):\n",
      "/home/sf/chgis/input/v5_augment_2016-08-09.csv\n",
      "\n",
      "Thank you -- filename /home/sf/chgis/input/v5_augment_2016-08-09.csv is valid.\n",
      "\n"
     ]
    }
   ],
   "source": [
    "# soliciting files for comparison; presumption is that second file entered will be the CHGIS v5 in .csv format\n",
    "print(\"Please input the path of the .csv file (with extension) you wish to compare with the CHGIS:\")\n",
    "new_data = csv_picker()\n",
    "# /home/sf/chgis/input/sample_data/Donghan_2014-10-02_copy.csv\n",
    "\n",
    "print(\"Please input the path of the .csv file (with extension) containing CHGIS data (script expects v5, or at least its column names):\")\n",
    "chgis = csv_picker()\n",
    "# /home/sf/chgis/input/v5_augment_2016-08-09.csv"
   ]
  },
  {
   "cell_type": "code",
   "execution_count": 4,
   "metadata": {
    "collapsed": true
   },
   "outputs": [],
   "source": [
    "# function for mapping the input .csv's fields to the desired, standardized output fields\n",
    "def field_mapper(output_field, frame=new_data):\n",
    "    ''' Function that will prompt user to manually map fields of the input .csv to standardized output fields.\n",
    "        Name changes will be made in-place (i.e. in the DataFrame -- the .csv will be untouched).\n",
    "        If user fails to enter anything for the given mapping, the output field will be present in the output \n",
    "        file, but have no values.        \n",
    "    '''\n",
    "    \n",
    "    print(\"\\nPlease enter the field in the incoming non-CHGIS .csv that will be labeled '%s' in the output .csv:\" % output_field)\n",
    "    input_field = input()\n",
    "    \n",
    "    # prompts for re-entering the input field if 1) it is not one of the column names and 2) it isn't an empty string\n",
    "    while (not input_field in list(new_data.columns.values)) and (input_field):\n",
    "        print(\"\\nNot a valid column name.  Please try again:\")\n",
    "        input_field = input()\n",
    "        \n",
    "    # simply exit if the user pressed enter, bypassing the mapping, or perform the mapping if a valid field name has been entered\n",
    "    if input_field:\n",
    "        frame.rename(columns={input_field:output_field}, inplace=True)\n",
    "    else:\n",
    "        frame[output_field] = ''        "
   ]
  },
  {
   "cell_type": "code",
   "execution_count": 5,
   "metadata": {
    "collapsed": true
   },
   "outputs": [],
   "source": [
    "# declaring the list of output .csv field names that will derive from the new data\n",
    "# i.e., all those fields whose names will be 'input_*' in the final .csv\n",
    "\n",
    "input_fields = [   \n",
    "    'input_id',\n",
    "    'input_nm_py',\n",
    "    'input_nm_simp',\n",
    "    'input_nm_trad',\n",
    "    'input_type',\n",
    "    'input_year_beg',\n",
    "    'input_year_end',\n",
    "    'input_dynasty',\n",
    "    'input_other_id',\n",
    "    'input_prnt',\n",
    "    'input_obj_type',\n",
    "    'input_x_coord',\n",
    "    'input_y_coord'\n",
    "]\n"
   ]
  },
  {
   "cell_type": "code",
   "execution_count": 6,
   "metadata": {
    "collapsed": false
   },
   "outputs": [
    {
     "name": "stdout",
     "output_type": "stream",
     "text": [
      "\n",
      "Please enter the field in the incoming non-CHGIS .csv that will be labeled 'input_id' in the output .csv:\n",
      "規範碼\n",
      "\n",
      "Please enter the field in the incoming non-CHGIS .csv that will be labeled 'input_nm_py' in the output .csv:\n",
      "\n",
      "\n",
      "Please enter the field in the incoming non-CHGIS .csv that will be labeled 'input_nm_simp' in the output .csv:\n",
      "\n",
      "\n",
      "Please enter the field in the incoming non-CHGIS .csv that will be labeled 'input_nm_trad' in the output .csv:\n",
      "县名\n",
      "\n",
      "Please enter the field in the incoming non-CHGIS .csv that will be labeled 'input_type' in the output .csv:\n",
      "\n",
      "\n",
      "Please enter the field in the incoming non-CHGIS .csv that will be labeled 'input_year_beg' in the output .csv:\n",
      "BEG\n",
      "\n",
      "Please enter the field in the incoming non-CHGIS .csv that will be labeled 'input_year_end' in the output .csv:\n",
      "END\n",
      "\n",
      "Please enter the field in the incoming non-CHGIS .csv that will be labeled 'input_dynasty' in the output .csv:\n",
      "朝代\n",
      "\n",
      "Please enter the field in the incoming non-CHGIS .csv that will be labeled 'input_other_id' in the output .csv:\n",
      "舊規範碼\n",
      "\n",
      "Please enter the field in the incoming non-CHGIS .csv that will be labeled 'input_prnt' in the output .csv:\n",
      "屬\n",
      "\n",
      "Please enter the field in the incoming non-CHGIS .csv that will be labeled 'input_obj_type' in the output .csv:\n",
      "x\n",
      "\n",
      "Not a valid column name.  Please try again:\n",
      "\n",
      "\n",
      "Please enter the field in the incoming non-CHGIS .csv that will be labeled 'input_x_coord' in the output .csv:\n",
      "經度\n",
      "\n",
      "Please enter the field in the incoming non-CHGIS .csv that will be labeled 'input_y_coord' in the output .csv:\n",
      "緯度\n"
     ]
    }
   ],
   "source": [
    "# renaming fields in the new data DataFrame to conform to specifications\n",
    "\n",
    "### FOR TESTING\n",
    "#new_data.rename(columns={'規範碼':'input_id', ''})\n",
    "\n",
    "### FOR PRODUCTION\n",
    "for field in input_fields:\n",
    "    field_mapper(field)"
   ]
  },
  {
   "cell_type": "code",
   "execution_count": 7,
   "metadata": {
    "collapsed": false
   },
   "outputs": [],
   "source": [
    "# dropping all fields from the new_data DataFrame that won't be in final output\n",
    "new_data = new_data[input_fields]"
   ]
  },
  {
   "cell_type": "code",
   "execution_count": 8,
   "metadata": {
    "collapsed": false
   },
   "outputs": [
    {
     "data": {
      "text/plain": [
       "Index(['tgaz_seq', 'tgaz_sys_id', 'tgaz_data_source', 'tgaz_nm_py',\n",
       "       'tgaz_nm_simp', 'tgaz_nm_trad', 'tgaz_x_coord', 'tgaz_y_coord',\n",
       "       'tgaz_pres_loc', 'tgaz_type_py', 'tgaz_type_ch', 'tgaz_beg', 'tgaz_end',\n",
       "       'tgaz_obj_type', 'tgaz_prnt_id', 'tgaz_prnt_sysid', 'tgaz_prnt_simp',\n",
       "       'tgaz_prnt_py'],\n",
       "      dtype='object')"
      ]
     },
     "execution_count": 8,
     "metadata": {},
     "output_type": "execute_result"
    }
   ],
   "source": [
    "# manually renaming one exception to the following pattern\n",
    "chgis.rename(columns={'src':'data_source'}, inplace=True)\n",
    "\n",
    "# renaming the CHGIS fields in-place to conform to output specifications\n",
    "chgis.columns = ['tgaz_%s' % x for x in chgis.columns]"
   ]
  },
  {
   "cell_type": "code",
   "execution_count": 9,
   "metadata": {
    "collapsed": false
   },
   "outputs": [
    {
     "name": "stdout",
     "output_type": "stream",
     "text": [
      "\n",
      "    Thank you. Now, please indicate, by entering a numerical digit 1-3, which of the following names you wish to make the primary key for comparing data:\n",
      "    1. Name in complex/traditional Chinese characters 繁体字\n",
      "    2. Name in simplified Chinese characters 简体字\n",
      "    3. Name in pinyin 拼音\n",
      "    \n",
      "1\n",
      "\n",
      "Using name in complex/traditional Chinese characters 繁体字 as primary key.\n"
     ]
    }
   ],
   "source": [
    "# soliciting user choice regarding which name field to take as primary\n",
    "print(\n",
    "    '''\n",
    "    Thank you. Now, please indicate, by entering a numerical digit 1-3, which of the following names you wish to make the primary key for comparing data:\n",
    "    1. Name in complex/traditional Chinese characters 繁体字\n",
    "    2. Name in simplified Chinese characters 简体字\n",
    "    3. Name in pinyin 拼音\n",
    "    '''\n",
    ")\n",
    "\n",
    "accepted = False\n",
    "choice = input()\n",
    "\n",
    "while accepted == False:\n",
    "    if choice == '1':\n",
    "        print(\"\\nUsing name in complex/traditional Chinese characters 繁体字 as primary key.\")\n",
    "        accepted = True\n",
    "        input_name_match_field = 'input_nm_trad'\n",
    "        chgis_name_match_field = 'tgaz_nm_trad'\n",
    "        output_name_match_field = 'out_nm_trad_match'\n",
    "    elif choice == '2':\n",
    "        print(\"\\nUsing name in simplified Chinese characters 简体字 as primary key.\")\n",
    "        accepted = True\n",
    "        input_name_match_field = 'input_nm_simp'\n",
    "        chgis_name_match_field = 'tgaz_nm_simp'\n",
    "        output_name_match_field = 'out_nm_simp_match'\n",
    "    elif choice == '3':\n",
    "        print(\"\\nUsing name in pinyin 拼音 as primary key.\")\n",
    "        accepted = True\n",
    "        input_name_match_field = 'input_nm_py'\n",
    "        chgis_name_match_field = 'tgaz_nm_py'\n",
    "        output_name_match_field = 'out_nm_py_match'\n",
    "    else:\n",
    "        print(\"\\nNot a valid response.  Please try again:\\n\")\n",
    "        choice = input()"
   ]
  },
  {
   "cell_type": "code",
   "execution_count": 10,
   "metadata": {
    "collapsed": false
   },
   "outputs": [],
   "source": [
    "# joining the DataFrames together\n",
    "df = chgis.merge(new_data, how='outer', left_on=chgis_name_match_field, right_on=input_name_match_field, indicator=True)"
   ]
  },
  {
   "cell_type": "code",
   "execution_count": 11,
   "metadata": {
    "collapsed": true
   },
   "outputs": [],
   "source": [
    "# converting all fields to strings for ease of comparison\n",
    "for field in list(df.columns):\n",
    "    df[field] = df[field].astype(str)"
   ]
  },
  {
   "cell_type": "code",
   "execution_count": 12,
   "metadata": {
    "collapsed": true
   },
   "outputs": [],
   "source": [
    "# removing rows that are only present in the CHGIS file\n",
    "df = df[df['_merge'] != 'left_only']"
   ]
  },
  {
   "cell_type": "code",
   "execution_count": 16,
   "metadata": {
    "collapsed": false
   },
   "outputs": [],
   "source": [
    "# in-row match testing\n",
    "df['out_x_coord_match'] = df['input_x_coord'] == df['tgaz_x_coord']\n",
    "df['out_y_coord_match'] = df['input_y_coord'] == df['tgaz_y_coord']\n",
    "df['out_beg_match'] = df['input_year_beg'] == df['tgaz_beg']\n",
    "df['out_end_match'] = df['input_year_end'] == df['tgaz_end']"
   ]
  },
  {
   "cell_type": "code",
   "execution_count": 18,
   "metadata": {
    "collapsed": false
   },
   "outputs": [],
   "source": [
    "# adding the 'match_strength' column\n",
    "df['out_content_match_strength'] = df['out_x_coord_match'].astype(int) + df['out_y_coord_match'].astype(int) + df['out_beg_match'].astype(int) + df['out_end_match'].astype(int)"
   ]
  },
  {
   "cell_type": "code",
   "execution_count": 20,
   "metadata": {
    "collapsed": false
   },
   "outputs": [],
   "source": [
    "# sorting columns\n",
    "tgaz_fields = [\n",
    "    'tgaz_sys_id',\n",
    "    'tgaz_nm_py',\n",
    "    'tgaz_nm_simp',\n",
    "    'tgaz_nm_trad',\n",
    "    'tgaz_beg',\n",
    "    'tgaz_end',\n",
    "    'tgaz_data_source',\n",
    "    'tgaz_obj_type',\n",
    "    'tgaz_pres_loc',\n",
    "    'tgaz_prnt_id',\n",
    "    'tgaz_prnt_py',\n",
    "    'tgaz_prnt_simp',\n",
    "    'tgaz_prnt_sysid',\n",
    "    'tgaz_type_ch',\n",
    "    'tgaz_type_py',\n",
    "    'tgaz_x_coord',\n",
    "    'tgaz_y_coord'\n",
    "]\n",
    "\n",
    "ordered_fields = tgaz_fields + input_fields + ['_merge'] + ['out_x_coord_match'] + ['out_y_coord_match'] + ['out_beg_match'] + ['out_end_match'] + ['out_content_match_strength']\n",
    "df = df[ordered_fields]"
   ]
  },
  {
   "cell_type": "code",
   "execution_count": 21,
   "metadata": {
    "collapsed": false
   },
   "outputs": [],
   "source": [
    "# replacing 'nan' with '' for improved legibility\n",
    "df = df.replace('nan', '')\n",
    "# print(df_final.columns)\n"
   ]
  },
  {
   "cell_type": "code",
   "execution_count": 23,
   "metadata": {
    "collapsed": false
   },
   "outputs": [
    {
     "name": "stdout",
     "output_type": "stream",
     "text": [
      "\n",
      "Data check is complete.  Please input the path (with file extension) to which you want to write the results:\n",
      "\n",
      "160902test8.csv\n",
      "File created at 160902test8.csv.  Now exiting.\n"
     ]
    }
   ],
   "source": [
    "# outputting results\n",
    "print('\\nData check is complete.  Please input the path (with file extension) to which you want to write the results:\\n')\n",
    "output_path = input()\n",
    "\n",
    "while not output_path.endswith('.csv'):\n",
    "        print(\"Filename does not end in .csv -- please try again or use Ctrl-C to exit:\")\n",
    "        output_path = input()\n",
    "\n",
    "df.to_csv(output_path)\n",
    "\n",
    "print('File created at %s.  Now exiting.' % output_path)"
   ]
  }
 ],
 "metadata": {
  "anaconda-cloud": {},
  "kernelspec": {
   "display_name": "Python [Root]",
   "language": "python",
   "name": "Python [Root]"
  },
  "language_info": {
   "codemirror_mode": {
    "name": "ipython",
    "version": 3
   },
   "file_extension": ".py",
   "mimetype": "text/x-python",
   "name": "python",
   "nbconvert_exporter": "python",
   "pygments_lexer": "ipython3",
   "version": "3.5.2"
  }
 },
 "nbformat": 4,
 "nbformat_minor": 0
}
