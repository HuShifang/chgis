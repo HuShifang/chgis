{
 "cells": [
  {
   "cell_type": "code",
   "execution_count": null,
   "metadata": {
    "collapsed": true
   },
   "outputs": [],
   "source": [
    "import collections"
   ]
  },
  {
   "cell_type": "code",
   "execution_count": null,
   "metadata": {
    "collapsed": true
   },
   "outputs": [],
   "source": [
    "myod = OrderedDict([('tgaz_sys_id','a unique ID'),\n",
    "    ('tgaz_nm_py', \"a name in pinyin\"),\n",
    "    ('tgaz_nm_simp',\"a name in simplified Chinese characters (简体字)\"),\n",
    "    ('tgaz_nm_trad',\"a name in traditional Chinese characters (繁體字)\"),\n",
    "    ('tgaz_beg',\"a beginning year\"),\n",
    "    ('tgaz_end',\"an ending year\"),\n",
    "    ('tgaz_data_source',\"the source of the data\"),\n",
    "    ('tgaz_obj_type',\"a geospatial type (Point/Vector/Polygon)\"),\n",
    "    ('tgaz_pres_loc',\"the place's present-day name\"),\n",
    "    'tgaz_prnt_id':\"the parent administrative unit's unique ID (NOT prefixed 'hvd_')\",\n",
    "    'tgaz_prnt_py':\"the parent administrative unit's name in pinyin\",\n",
    "    'tgaz_prnt_simp':\"the parent administrative unit's name in simplified Chinese characters (简体字)\",\n",
    "    'tgaz_prnt_sysid':\"the parent administrative unit's unique ID (prefxed 'hvd_')\",\n",
    "    'tgaz_type_ch':\"an administrative type in Chinese (simplified) characters (e.g. 县)\",\n",
    "    'tgaz_type_py':\"an administrative type in pinyin (e.g. 'Xian')\",\n",
    "    'tgaz_x_coord':\"an x coordinate\",\n",
    "    'tgaz_y_coord':\"a y coordinate\""
   ]
  }
 ],
 "metadata": {
  "kernelspec": {
   "display_name": "Python [Root]",
   "language": "python",
   "name": "Python [Root]"
  },
  "language_info": {
   "codemirror_mode": {
    "name": "ipython",
    "version": 3
   },
   "file_extension": ".py",
   "mimetype": "text/x-python",
   "name": "python",
   "nbconvert_exporter": "python",
   "pygments_lexer": "ipython3",
   "version": "3.5.2"
  }
 },
 "nbformat": 4,
 "nbformat_minor": 0
}
