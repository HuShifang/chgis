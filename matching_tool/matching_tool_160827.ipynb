{
 "cells": [
  {
   "cell_type": "code",
   "execution_count": 2,
   "metadata": {
    "collapsed": true
   },
   "outputs": [],
   "source": [
    "#! /usr/bin/python3\n",
    "\n",
    "# Script for comparing an input .csv file with an existing .csv file (e.g. the current CHGIS).\n",
    "# Indicates 1) matches on name and 2) strength of match on content\n",
    "\n",
    "import pandas as pd\n",
    "import numpy as np\n",
    "from pandas import Series, DataFrame\n",
    "import os.path"
   ]
  },
  {
   "cell_type": "code",
   "execution_count": 4,
   "metadata": {
    "collapsed": false
   },
   "outputs": [],
   "source": [
    "def name_checker(name):\n",
    "    '''\n",
    "       Confirms that pathname is a valid file \n",
    "    '''\n",
    "    while not (os.path.isfile(name)):\n",
    "        print(\"Not a valid filename.  Please try again.\")\n",
    "        name = input()\n",
    "    return name"
   ]
  },
  {
   "cell_type": "code",
   "execution_count": 5,
   "metadata": {
    "collapsed": true
   },
   "outputs": [],
   "source": [
    "def csv_picker():\n",
    "    '''\n",
    "        Simple function that takes the filenames / paths of the new .csv to check and the old .csv (i.e. a CHGIS version) against which to check it.\n",
    "        Returns a list from which the DataFrames can then be constructed.\n",
    "    '''\n",
    "    print(\"Please type in the path of the file (with extension) you wish to check against the CHGIS:\")\n",
    "    new_csv = input()\n",
    "    new_csv = name_checker(new_csv)\n",
    "    #while !os.path.isfile(new_csv):\n",
    "    #    print(\"Not a valid filename.  Please try again:\")\n",
    "    #    new_csv = input()\n",
    "    print(\"Please type in the path of the file (with extension) containing the version of the CHGIS you wish to check against:\")\n",
    "    old_csv = input()\n",
    "    old_csv = name_checker(old_csv)\n",
    "    return [new_csv, old_csv]\n"
   ]
  },
  {
   "cell_type": "code",
   "execution_count": 7,
   "metadata": {
    "collapsed": false
   },
   "outputs": [],
   "source": [
    "# def field_checker(new_csv, old_csv):\n",
    "#    '''\n",
    "#        Contains the logic for checking fields of the new_csv against those of the old_csv \n",
    "#        Presumes the existence of the following cols:       \n",
    "#    '''\n",
    "    "
   ]
  },
  {
   "cell_type": "code",
   "execution_count": 15,
   "metadata": {
    "collapsed": false
   },
   "outputs": [],
   "source": [
    "### start of test to see if Donghan_2014-10-02_copy.csv as new, chgis v5 as old works\n",
    "\n",
    "# importing .csv files\n",
    "dong_han = pd.read_csv('../input/sample_data/Donghan_2014-10-02_copy.csv', low_memory=False)\n",
    "v5 = pd.read_csv('../input/v5_augment_2016-08-09.csv', low_memory=False)\n",
    "\n",
    "# tagging source files\n",
    "dong_han['data_source'] = 'dong_han'\n",
    "v5['data_source'] = 'v5'\n",
    "\n",
    "# appending 县 to '县名' column, to prepare data for import into v5\n",
    "dong_han['县名'] = dong_han['县名'] + '县'\n",
    "\n",
    "# renaming cols of dong_han to match v5\n",
    "dong_han = dong_han.rename(columns={\n",
    "        '县名':'nm_simp',\n",
    "        '經度':'x_coord',\n",
    "        '緯度':'y_coord',\n",
    "        '屬':'prnt_simp',\n",
    "        'BEG':'beg',\n",
    "        'END':'end'        \n",
    "    })\n",
    "\n",
    "# concatenating into a single DF\n",
    "df = pd.concat([dong_han, v5])\n",
    "#df.to_csv('../output/160829_test.csv')"
   ]
  },
  {
   "cell_type": "code",
   "execution_count": 16,
   "metadata": {
    "collapsed": false
   },
   "outputs": [
    {
     "name": "stderr",
     "output_type": "stream",
     "text": [
      "/home/sf/anaconda3/lib/python3.5/site-packages/ipykernel/__main__.py:5: SettingWithCopyWarning: \n",
      "A value is trying to be set on a copy of a slice from a DataFrame.\n",
      "Try using .loc[row_indexer,col_indexer] = value instead\n",
      "\n",
      "See the caveats in the documentation: http://pandas.pydata.org/pandas-docs/stable/indexing.html#indexing-view-versus-copy\n",
      "/home/sf/anaconda3/lib/python3.5/site-packages/ipykernel/__main__.py:7: SettingWithCopyWarning: \n",
      "A value is trying to be set on a copy of a slice from a DataFrame.\n",
      "Try using .loc[row_indexer,col_indexer] = value instead\n",
      "\n",
      "See the caveats in the documentation: http://pandas.pydata.org/pandas-docs/stable/indexing.html#indexing-view-versus-copy\n"
     ]
    }
   ],
   "source": [
    "# checking for duplicated names\n",
    "mask_duplicates = df.duplicated(subset='nm_simp', keep=False)\n",
    "mask_uniques = ~mask_duplicates\n",
    "duplicates = df[mask_duplicates]\n",
    "duplicates['nm_simp_match'] = True\n",
    "uniques = df[mask_uniques]\n",
    "uniques['nm_simp_match'] = False\n",
    "df_two = pd.concat([duplicates, uniques])"
   ]
  },
  {
   "cell_type": "code",
   "execution_count": 21,
   "metadata": {
    "collapsed": true
   },
   "outputs": [],
   "source": [
    "# function for comparing content fields\n",
    "def field_matcher(frame, comp_field, indicator_field):\n",
    "    mask_duplicates = frame.duplicated(subset=[comp_field], keep=False)\n",
    "    mask_uniques = ~mask_duplicates\n",
    "    duplicates = frame[mask_duplicates]\n",
    "    duplicates[indicator_field] = True\n",
    "    uniques = frame[mask_uniques]\n",
    "    uniques[indicator_field] = False\n",
    "    return pd.concat([duplicates, uniques])"
   ]
  },
  {
   "cell_type": "code",
   "execution_count": 22,
   "metadata": {
    "collapsed": false
   },
   "outputs": [
    {
     "name": "stderr",
     "output_type": "stream",
     "text": [
      "/home/sf/anaconda3/lib/python3.5/site-packages/ipykernel/__main__.py:6: SettingWithCopyWarning: \n",
      "A value is trying to be set on a copy of a slice from a DataFrame.\n",
      "Try using .loc[row_indexer,col_indexer] = value instead\n",
      "\n",
      "See the caveats in the documentation: http://pandas.pydata.org/pandas-docs/stable/indexing.html#indexing-view-versus-copy\n",
      "/home/sf/anaconda3/lib/python3.5/site-packages/ipykernel/__main__.py:8: SettingWithCopyWarning: \n",
      "A value is trying to be set on a copy of a slice from a DataFrame.\n",
      "Try using .loc[row_indexer,col_indexer] = value instead\n",
      "\n",
      "See the caveats in the documentation: http://pandas.pydata.org/pandas-docs/stable/indexing.html#indexing-view-versus-copy\n"
     ]
    }
   ],
   "source": [
    "# checking content matches\n",
    "\n",
    "# trying to workaround failure to recognize numerical matches\n",
    "df_two['x_coord'] = df_two['x_coord'].astype(str)\n",
    "df_two['y_coord'] = df_two['y_coord'].astype(str)\n",
    "df_two['beg'] = df_two['beg'].astype(str)\n",
    "df_two['end'] = df_two['end'].astype(str)\n",
    "\n",
    "# creating flag fields for content matches\n",
    "df_three = field_matcher(df_two, 'x_coord', 'x_coord_match')\n",
    "df_four = field_matcher(df_three,'y_coord', 'y_coord_match')\n",
    "df_five = field_matcher(df_four,'beg', 'beg_match')\n",
    "df_six = field_matcher(df_five,'end', 'end_match')"
   ]
  },
  {
   "cell_type": "code",
   "execution_count": 29,
   "metadata": {
    "collapsed": false
   },
   "outputs": [
    {
     "ename": "ValueError",
     "evalue": "Item wrong length 4 instead of 78850.",
     "output_type": "error",
     "traceback": [
      "\u001b[1;31m---------------------------------------------------------------------------\u001b[0m",
      "\u001b[1;31mValueError\u001b[0m                                Traceback (most recent call last)",
      "\u001b[1;32m<ipython-input-29-fa21722e9315>\u001b[0m in \u001b[0;36m<module>\u001b[1;34m()\u001b[0m\n\u001b[0;32m      1\u001b[0m \u001b[0mcontent_matches\u001b[0m \u001b[1;33m=\u001b[0m \u001b[1;33m[\u001b[0m\u001b[0mdf_six\u001b[0m\u001b[1;33m[\u001b[0m\u001b[1;34m'x_coord_match'\u001b[0m\u001b[1;33m]\u001b[0m\u001b[1;33m,\u001b[0m \u001b[0mdf_six\u001b[0m\u001b[1;33m[\u001b[0m\u001b[1;34m'y_coord_match'\u001b[0m\u001b[1;33m]\u001b[0m\u001b[1;33m,\u001b[0m \u001b[0mdf_six\u001b[0m\u001b[1;33m[\u001b[0m\u001b[1;34m'beg_match'\u001b[0m\u001b[1;33m]\u001b[0m\u001b[1;33m,\u001b[0m \u001b[0mdf_six\u001b[0m\u001b[1;33m[\u001b[0m\u001b[1;34m'end_match'\u001b[0m\u001b[1;33m]\u001b[0m\u001b[1;33m]\u001b[0m\u001b[1;33m\u001b[0m\u001b[0m\n\u001b[1;32m----> 2\u001b[1;33m \u001b[0mdf_six\u001b[0m\u001b[1;33m[\u001b[0m\u001b[1;34m'match_strength'\u001b[0m\u001b[1;33m]\u001b[0m \u001b[1;33m=\u001b[0m \u001b[0mdf\u001b[0m\u001b[1;33m[\u001b[0m\u001b[0mcontent_matches\u001b[0m\u001b[1;33m]\u001b[0m\u001b[1;33m.\u001b[0m\u001b[0msum\u001b[0m\u001b[1;33m(\u001b[0m\u001b[0maxis\u001b[0m\u001b[1;33m=\u001b[0m\u001b[1;36m0\u001b[0m\u001b[1;33m)\u001b[0m\u001b[1;33m\u001b[0m\u001b[0m\n\u001b[0m",
      "\u001b[1;32m/home/sf/anaconda3/lib/python3.5/site-packages/pandas/core/frame.py\u001b[0m in \u001b[0;36m__getitem__\u001b[1;34m(self, key)\u001b[0m\n\u001b[0;32m   1989\u001b[0m         \u001b[1;32mif\u001b[0m \u001b[0misinstance\u001b[0m\u001b[1;33m(\u001b[0m\u001b[0mkey\u001b[0m\u001b[1;33m,\u001b[0m \u001b[1;33m(\u001b[0m\u001b[0mSeries\u001b[0m\u001b[1;33m,\u001b[0m \u001b[0mnp\u001b[0m\u001b[1;33m.\u001b[0m\u001b[0mndarray\u001b[0m\u001b[1;33m,\u001b[0m \u001b[0mIndex\u001b[0m\u001b[1;33m,\u001b[0m \u001b[0mlist\u001b[0m\u001b[1;33m)\u001b[0m\u001b[1;33m)\u001b[0m\u001b[1;33m:\u001b[0m\u001b[1;33m\u001b[0m\u001b[0m\n\u001b[0;32m   1990\u001b[0m             \u001b[1;31m# either boolean or fancy integer index\u001b[0m\u001b[1;33m\u001b[0m\u001b[1;33m\u001b[0m\u001b[0m\n\u001b[1;32m-> 1991\u001b[1;33m             \u001b[1;32mreturn\u001b[0m \u001b[0mself\u001b[0m\u001b[1;33m.\u001b[0m\u001b[0m_getitem_array\u001b[0m\u001b[1;33m(\u001b[0m\u001b[0mkey\u001b[0m\u001b[1;33m)\u001b[0m\u001b[1;33m\u001b[0m\u001b[0m\n\u001b[0m\u001b[0;32m   1992\u001b[0m         \u001b[1;32melif\u001b[0m \u001b[0misinstance\u001b[0m\u001b[1;33m(\u001b[0m\u001b[0mkey\u001b[0m\u001b[1;33m,\u001b[0m \u001b[0mDataFrame\u001b[0m\u001b[1;33m)\u001b[0m\u001b[1;33m:\u001b[0m\u001b[1;33m\u001b[0m\u001b[0m\n\u001b[0;32m   1993\u001b[0m             \u001b[1;32mreturn\u001b[0m \u001b[0mself\u001b[0m\u001b[1;33m.\u001b[0m\u001b[0m_getitem_frame\u001b[0m\u001b[1;33m(\u001b[0m\u001b[0mkey\u001b[0m\u001b[1;33m)\u001b[0m\u001b[1;33m\u001b[0m\u001b[0m\n",
      "\u001b[1;32m/home/sf/anaconda3/lib/python3.5/site-packages/pandas/core/frame.py\u001b[0m in \u001b[0;36m_getitem_array\u001b[1;34m(self, key)\u001b[0m\n\u001b[0;32m   2026\u001b[0m             \u001b[1;32melif\u001b[0m \u001b[0mlen\u001b[0m\u001b[1;33m(\u001b[0m\u001b[0mkey\u001b[0m\u001b[1;33m)\u001b[0m \u001b[1;33m!=\u001b[0m \u001b[0mlen\u001b[0m\u001b[1;33m(\u001b[0m\u001b[0mself\u001b[0m\u001b[1;33m.\u001b[0m\u001b[0mindex\u001b[0m\u001b[1;33m)\u001b[0m\u001b[1;33m:\u001b[0m\u001b[1;33m\u001b[0m\u001b[0m\n\u001b[0;32m   2027\u001b[0m                 raise ValueError('Item wrong length %d instead of %d.' %\n\u001b[1;32m-> 2028\u001b[1;33m                                  (len(key), len(self.index)))\n\u001b[0m\u001b[0;32m   2029\u001b[0m             \u001b[1;31m# check_bool_indexer will throw exception if Series key cannot\u001b[0m\u001b[1;33m\u001b[0m\u001b[1;33m\u001b[0m\u001b[0m\n\u001b[0;32m   2030\u001b[0m             \u001b[1;31m# be reindexed to match DataFrame rows\u001b[0m\u001b[1;33m\u001b[0m\u001b[1;33m\u001b[0m\u001b[0m\n",
      "\u001b[1;31mValueError\u001b[0m: Item wrong length 4 instead of 78850."
     ]
    }
   ],
   "source": [
    "### RESUME HERE IN AM -- https://stackoverflow.com/questions/25748683/python-pandas-sum-dataframe-rows-for-given-columns\n",
    "\n",
    "content_matches = [df_six['x_coord_match'], df_six['y_coord_match'], df_six['beg_match'], df_six['end_match']]\n",
    "df_six['match_strength'] = df[content_matches].sum(axis=0)"
   ]
  }
 ],
 "metadata": {
  "anaconda-cloud": {},
  "kernelspec": {
   "display_name": "Python [Root]",
   "language": "python",
   "name": "Python [Root]"
  },
  "language_info": {
   "codemirror_mode": {
    "name": "ipython",
    "version": 3
   },
   "file_extension": ".py",
   "mimetype": "text/x-python",
   "name": "python",
   "nbconvert_exporter": "python",
   "pygments_lexer": "ipython3",
   "version": "3.5.2"
  }
 },
 "nbformat": 4,
 "nbformat_minor": 0
}
