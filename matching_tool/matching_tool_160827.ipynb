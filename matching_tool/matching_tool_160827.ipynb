{
 "cells": [
  {
   "cell_type": "code",
   "execution_count": null,
   "metadata": {
    "collapsed": true
   },
   "outputs": [],
   "source": [
    "#! /usr/bin/python3\n",
    "\n",
    "# Script for comparing an input .csv file with an existing .csv file (e.g. the current CHGIS).\n",
    "# Indicates 1) matches on name and 2) strength of match on content\n",
    "\n",
    "import pandas as pd\n",
    "import numpy as np\n",
    "from pandas import Series, DataFrame\n",
    "import os.path"
   ]
  },
  {
   "cell_type": "code",
   "execution_count": null,
   "metadata": {
    "collapsed": true
   },
   "outputs": [],
   "source": [
    "def name_checker(name):\n",
    "    '''\n",
    "       Confirms that pathname is a valid file \n",
    "    '''\n",
    "    while !os.path.isfile(name):\n",
    "        print(\"Not a valid filename.  Please try again.\")\n",
    "        name = input()\n",
    "    return name"
   ]
  },
  {
   "cell_type": "code",
   "execution_count": null,
   "metadata": {
    "collapsed": true
   },
   "outputs": [],
   "source": [
    "def csv_picker():\n",
    "    '''\n",
    "        Simple function that takes the filenames / paths of the new .csv to check and the old .csv (i.e. a CHGIS version) against which to check it.\n",
    "        Returns a list from which the DataFrames can then be constructed.\n",
    "    '''\n",
    "    print(\"Please type in the path of the file (with extension) you wish to check against the CHGIS:\")\n",
    "    new_csv = input()\n",
    "    new_csv = name_checker(new_csv)\n",
    "    #while !os.path.isfile(new_csv):\n",
    "    #    print(\"Not a valid filename.  Please try again:\")\n",
    "    #    new_csv = input()\n",
    "    print(\"Please type in the path of the file (with extension) containing the version of the CHGIS you wish to check against:\")\n",
    "    old_csv = input()\n",
    "    old_csv = name_checker(old_csv)\n",
    "    return [new_csv, old_csv]\n"
   ]
  },
  {
   "cell_type": "code",
   "execution_count": null,
   "metadata": {
    "collapsed": true
   },
   "outputs": [],
   "source": [
    "def field_checker(new_csv, old_csv):\n",
    "    '''\n",
    "        Contains the logic for checking fields of the new_csv against those of the old_csv \n",
    "    '''"
   ]
  }
 ],
 "metadata": {
  "anaconda-cloud": {},
  "kernelspec": {
   "display_name": "Python [Root]",
   "language": "python",
   "name": "Python [Root]"
  },
  "language_info": {
   "codemirror_mode": {
    "name": "ipython",
    "version": 3
   },
   "file_extension": ".py",
   "mimetype": "text/x-python",
   "name": "python",
   "nbconvert_exporter": "python",
   "pygments_lexer": "ipython3",
   "version": "3.5.2"
  }
 },
 "nbformat": 4,
 "nbformat_minor": 0
}
