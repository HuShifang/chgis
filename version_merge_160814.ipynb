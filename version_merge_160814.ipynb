{
 "cells": [
  {
   "cell_type": "code",
   "execution_count": 1,
   "metadata": {
    "collapsed": true
   },
   "outputs": [],
   "source": [
    "import pandas as pd\n",
    "from pandas import Series, DataFrame\n",
    "import numpy as np"
   ]
  },
  {
   "cell_type": "code",
   "execution_count": 2,
   "metadata": {
    "collapsed": false
   },
   "outputs": [],
   "source": [
    "# importing v5 and v6 tables as DataFrames\n",
    "v5 = pd.read_csv('input/v5_augment_2016-08-09.csv', low_memory=False)\n",
    "v6 = pd.read_csv('input/V6_input_draft_20160811.csv', low_memory=False)\n",
    "v5['version'] = 5\n",
    "v6['version'] = 6"
   ]
  },
  {
   "cell_type": "code",
   "execution_count": 3,
   "metadata": {
    "collapsed": true
   },
   "outputs": [],
   "source": [
    "# merge v5 and v6 into a single DataFrame\n",
    "df = pd.concat([v5,v6])\n",
    "df.to_csv('output/v5_and_v6.csv')"
   ]
  },
  {
   "cell_type": "code",
   "execution_count": 4,
   "metadata": {
    "collapsed": false,
    "scrolled": false
   },
   "outputs": [
    {
     "name": "stderr",
     "output_type": "stream",
     "text": [
      "/home/sf/anaconda3/lib/python3.5/site-packages/ipykernel/__main__.py:5: SettingWithCopyWarning: \n",
      "A value is trying to be set on a copy of a slice from a DataFrame.\n",
      "Try using .loc[row_indexer,col_indexer] = value instead\n",
      "\n",
      "See the caveats in the documentation: http://pandas.pydata.org/pandas-docs/stable/indexing.html#indexing-view-versus-copy\n",
      "/home/sf/anaconda3/lib/python3.5/site-packages/ipykernel/__main__.py:7: SettingWithCopyWarning: \n",
      "A value is trying to be set on a copy of a slice from a DataFrame.\n",
      "Try using .loc[row_indexer,col_indexer] = value instead\n",
      "\n",
      "See the caveats in the documentation: http://pandas.pydata.org/pandas-docs/stable/indexing.html#indexing-view-versus-copy\n"
     ]
    }
   ],
   "source": [
    "# check merged df for duplicates by sys_id, generate file with tagging\n",
    "mask_duplicates = df.duplicated(subset='sys_id', keep=False)\n",
    "mask_uniques = ~mask_duplicates\n",
    "duplicates = df[mask_duplicates]\n",
    "duplicates['sys_id_duplicate'] = True\n",
    "uniques = df[mask_uniques]\n",
    "uniques['sys_id_duplicate'] = False\n",
    "df_two = pd.concat([duplicates, uniques])\n",
    "df_two.to_csv('output/v5_and_v5_duplicates_and_uniques.csv')\n",
    "\n",
    "### following lines would output csv's containing only the duplicates and uniques\n",
    "#duplicates.to_csv('output/v5_and_v6_primary_duplicates.csv')\n",
    "#uniques.to_csv('v5_and_v6_uniques.csv')"
   ]
  },
  {
   "cell_type": "code",
   "execution_count": 5,
   "metadata": {
    "collapsed": true
   },
   "outputs": [],
   "source": [
    "# function for adding Boolean flags as fields to the DataFrame file\n",
    "def field_matcher(frame, v6_field, v5_field, new_field):\n",
    "    mask_duplicates = frame.duplicated(subset=[v6_field, v5_field], keep=False)\n",
    "    mask_uniques = ~mask_duplicates\n",
    "    duplicates = frame[mask_duplicates]\n",
    "    duplicates[new_field] = True\n",
    "    uniques = frame[mask_uniques]\n",
    "    uniques[new_field] = False\n",
    "    return pd.concat([duplicates, uniques])        "
   ]
  },
  {
   "cell_type": "code",
   "execution_count": 6,
   "metadata": {
    "collapsed": false,
    "scrolled": true
   },
   "outputs": [
    {
     "name": "stderr",
     "output_type": "stream",
     "text": [
      "/home/sf/anaconda3/lib/python3.5/site-packages/ipykernel/__main__.py:6: SettingWithCopyWarning: \n",
      "A value is trying to be set on a copy of a slice from a DataFrame.\n",
      "Try using .loc[row_indexer,col_indexer] = value instead\n",
      "\n",
      "See the caveats in the documentation: http://pandas.pydata.org/pandas-docs/stable/indexing.html#indexing-view-versus-copy\n",
      "/home/sf/anaconda3/lib/python3.5/site-packages/ipykernel/__main__.py:8: SettingWithCopyWarning: \n",
      "A value is trying to be set on a copy of a slice from a DataFrame.\n",
      "Try using .loc[row_indexer,col_indexer] = value instead\n",
      "\n",
      "See the caveats in the documentation: http://pandas.pydata.org/pandas-docs/stable/indexing.html#indexing-view-versus-copy\n"
     ]
    }
   ],
   "source": [
    "# performing duplicate checks field-by-field per 'Match_fields_from_V6_to_V5.csv'\n",
    "df_three = field_matcher(df_two, 'nm_py', 'nm_py', 'nm_py_duplicate')\n",
    "df_four = field_matcher(df_three, 'nm_simp', 'nm_simp', 'nm_simp_duplicate')\n",
    "df_five = field_matcher(df_four, 'nm_trad', 'nm_trad', 'nm_trad_duplicate')\n",
    "\n",
    "# trying to workaround failure to recognize matches\n",
    "df_five['x_coord'] = df_five['x_coord'].astype(str)\n",
    "df_five['y_coord'] = df_five['y_coord'].astype(str)\n",
    "df_six = field_matcher(df_five, 'x_coord', 'x_coord', 'x_coord_duplicate')\n",
    "df_seven = field_matcher(df_six, 'y_coord', 'y_coord', 'y_coord_duplicate')\n",
    "df_seven['x_coord'] = df_seven['x_coord'].astype(float)\n",
    "df_seven['y_coord'] = df_seven['y_coord'].astype(float)\n",
    "\n",
    "# resuming secondary checks\n",
    "df_eight = field_matcher(df_seven, 'pres_loc', 'pres_loc', 'pres_loc_duplicate')\n",
    "df_nine = field_matcher(df_eight, 'type_py', 'type_py', 'type_py_duplicate')\n",
    "df_ten = field_matcher(df_nine, 'type_simp', 'type_ch', 'type_simp/ch_duplicate')\n",
    "df_eleven = field_matcher(df_ten, 'beg_yr', 'beg', 'beg_yr_duplicate')\n",
    "df_twelve = field_matcher(df_eleven, 'end_yr', 'end', 'end_yr_duplicate')\n",
    "df_thirteen = field_matcher(df_twelve, 'obj_type', 'obj_type', 'obj_type_duplicate')\n",
    "df_thirteen['exact_match'] = df_thirteen.all(axis=1, bool_only=True)"
   ]
  },
  {
   "cell_type": "code",
   "execution_count": 8,
   "metadata": {
    "collapsed": false
   },
   "outputs": [],
   "source": [
    "# outputting .csv with v5 AND v6\n",
    "df_thirteen.to_csv('output/V5andV6_output.csv')\n",
    "\n",
    "# masking, outputting v5 alone\n",
    "v5_mask = df_thirteen['version'] == 5\n",
    "v5_final = df_thirteen[v5_mask]\n",
    "v5_final.to_csv('output/V5_output.csv')\n",
    "\n",
    "# masking, outputting v6 alone\n",
    "v6_mask = df_thirteen['version'] == 6\n",
    "v6_final = df_thirteen[v6_mask]\n",
    "v6_final.to_csv('output/V6_output.csv')"
   ]
  }
 ],
 "metadata": {
  "anaconda-cloud": {},
  "kernelspec": {
   "display_name": "Python [Root]",
   "language": "python",
   "name": "Python [Root]"
  },
  "language_info": {
   "codemirror_mode": {
    "name": "ipython",
    "version": 3
   },
   "file_extension": ".py",
   "mimetype": "text/x-python",
   "name": "python",
   "nbconvert_exporter": "python",
   "pygments_lexer": "ipython3",
   "version": "3.5.2"
  }
 },
 "nbformat": 4,
 "nbformat_minor": 0
}
